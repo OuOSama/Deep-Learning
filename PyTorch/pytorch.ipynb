{
 "cells": [
  {
   "cell_type": "markdown",
   "metadata": {},
   "source": [
    "## PyTorch"
   ]
  },
  {
   "cell_type": "code",
   "execution_count": 140,
   "metadata": {},
   "outputs": [
    {
     "name": "stdout",
     "output_type": "stream",
     "text": [
      "PyTorch version: 2.2.1+cu118\n"
     ]
    }
   ],
   "source": [
    "import torch \n",
    "print(\"PyTorch version:\",torch.__version__)"
   ]
  },
  {
   "cell_type": "markdown",
   "metadata": {},
   "source": [
    "### PyTorch:Try make Tensor"
   ]
  },
  {
   "cell_type": "code",
   "execution_count": 141,
   "metadata": {},
   "outputs": [
    {
     "name": "stdout",
     "output_type": "stream",
     "text": [
      "tensor([[0.2039, 0.2886, 0.0573, 0.8073, 0.3855],\n",
      "        [0.1845, 0.6302, 0.1261, 0.8500, 0.7875],\n",
      "        [0.0086, 0.1075, 0.1703, 0.2293, 0.5624],\n",
      "        [0.0056, 0.1293, 0.7283, 0.3362, 0.3010],\n",
      "        [0.0864, 0.7027, 0.5353, 0.3067, 0.1938]])\n"
     ]
    }
   ],
   "source": [
    "x = torch.rand(5,5,dtype= torch.float32)\n",
    "print(x)"
   ]
  },
  {
   "cell_type": "markdown",
   "metadata": {},
   "source": [
    "### PyTorch: Zero"
   ]
  },
  {
   "cell_type": "code",
   "execution_count": 142,
   "metadata": {},
   "outputs": [
    {
     "name": "stdout",
     "output_type": "stream",
     "text": [
      "tensor([[0, 0, 0, 0, 0],\n",
      "        [0, 0, 0, 0, 0],\n",
      "        [0, 0, 0, 0, 0],\n",
      "        [0, 0, 0, 0, 0],\n",
      "        [0, 0, 0, 0, 0]])\n"
     ]
    }
   ],
   "source": [
    "x = torch.zeros(5,5,dtype= torch.long)\n",
    "print(x)"
   ]
  },
  {
   "cell_type": "markdown",
   "metadata": {},
   "source": [
    "### PyTorch: one"
   ]
  },
  {
   "cell_type": "code",
   "execution_count": 143,
   "metadata": {},
   "outputs": [
    {
     "name": "stdout",
     "output_type": "stream",
     "text": [
      "tensor([[1., 1., 1., 1., 1.],\n",
      "        [1., 1., 1., 1., 1.],\n",
      "        [1., 1., 1., 1., 1.],\n",
      "        [1., 1., 1., 1., 1.],\n",
      "        [1., 1., 1., 1., 1.]], dtype=torch.float64)\n"
     ]
    }
   ],
   "source": [
    "x = torch.ones(5,5,dtype= torch.float64)\n",
    "print(x)"
   ]
  },
  {
   "cell_type": "markdown",
   "metadata": {},
   "source": [
    "### PyTorch: Tensor"
   ]
  },
  {
   "cell_type": "code",
   "execution_count": 144,
   "metadata": {},
   "outputs": [
    {
     "name": "stdout",
     "output_type": "stream",
     "text": [
      "tensor([4.1230, 3.0000])\n"
     ]
    }
   ],
   "source": [
    "x = torch.tensor([4.123,3])\n",
    "print(x)"
   ]
  },
  {
   "cell_type": "markdown",
   "metadata": {},
   "source": [
    "### PyTorch: Random"
   ]
  },
  {
   "cell_type": "code",
   "execution_count": 145,
   "metadata": {},
   "outputs": [
    {
     "name": "stdout",
     "output_type": "stream",
     "text": [
      "tensor([0.2673, 1.0220])\n"
     ]
    }
   ],
   "source": [
    "x = torch.randn_like(x, dtype= torch.float32)\n",
    "print(x)"
   ]
  },
  {
   "cell_type": "markdown",
   "metadata": {},
   "source": [
    "### PyTorch: Fill"
   ]
  },
  {
   "cell_type": "code",
   "execution_count": 146,
   "metadata": {},
   "outputs": [
    {
     "name": "stdout",
     "output_type": "stream",
     "text": [
      "tensor([[7, 7, 7],\n",
      "        [7, 7, 7],\n",
      "        [7, 7, 7],\n",
      "        [7, 7, 7],\n",
      "        [7, 7, 7]], dtype=torch.int32)\n"
     ]
    }
   ],
   "source": [
    "x = torch.Tensor(5,3).fill_(7).type(torch.int)\n",
    "print(x)"
   ]
  },
  {
   "cell_type": "markdown",
   "metadata": {},
   "source": [
    "### PyTorch: Seed"
   ]
  },
  {
   "cell_type": "code",
   "execution_count": 147,
   "metadata": {},
   "outputs": [
    {
     "name": "stdout",
     "output_type": "stream",
     "text": [
      "tensor([[ 0.6614,  0.2669,  0.0617],\n",
      "        [ 0.6213, -0.4519, -0.1661],\n",
      "        [-1.5228,  0.3817, -1.0276],\n",
      "        [-0.5631, -0.8923, -0.0583],\n",
      "        [-0.1955, -0.9656,  0.4224]])\n"
     ]
    }
   ],
   "source": [
    "torch.manual_seed(1)\n",
    "x = torch.randn(5,3)\n",
    "print(x)"
   ]
  },
  {
   "cell_type": "markdown",
   "metadata": {},
   "source": [
    "## PyTorch x NumPy"
   ]
  },
  {
   "cell_type": "markdown",
   "metadata": {},
   "source": [
    "### PyTorch: NumPy to Tensor"
   ]
  },
  {
   "cell_type": "code",
   "execution_count": 148,
   "metadata": {},
   "outputs": [
    {
     "name": "stdout",
     "output_type": "stream",
     "text": [
      "===========================================\n",
      "NumPy: [5 3]\n",
      "Tensor: tensor([5, 3], dtype=torch.int32)\n",
      "===== T + 1 =====\n",
      "NumPy: [6 4]\n",
      "Tensor: tensor([6, 4], dtype=torch.int32)\n",
      "\n",
      " ===========================================\n",
      "Tensor: tensor([6, 4], dtype=torch.int32)\n",
      "NumPy: [7 9]\n",
      "===== T + 1 =====\n",
      "Tensor: tensor([7, 5], dtype=torch.int32)\n",
      "NumPy: [7 9]\n"
     ]
    }
   ],
   "source": [
    "import numpy as np  \n",
    "a = np.array([5,3])\n",
    "t = torch.from_numpy(a)\n",
    "print(\"===========================================\")\n",
    "print(\"NumPy:\",a)\n",
    "print(\"Tensor:\",t)\n",
    "\n",
    "print(\"===== T + 1 =====\")\n",
    "t += 1\n",
    "\n",
    "print(\"NumPy:\",a)\n",
    "print(\"Tensor:\",t)\n",
    "\n",
    "print(\"\\n ===========================================\")\n",
    "a_1 = np.array([7,9])\n",
    "t_1 = torch.from_numpy(a)\n",
    "\n",
    "print(\"Tensor:\",t_1)\n",
    "print(\"NumPy:\",a_1)\n",
    "\n",
    "print(\"===== T + 1 =====\")\n",
    "t += 1\n",
    "\n",
    "print(\"Tensor:\",t_1)\n",
    "print(\"NumPy:\",a_1)"
   ]
  },
  {
   "cell_type": "markdown",
   "metadata": {},
   "source": [
    "### PyTorch: Tensor to NumPy"
   ]
  },
  {
   "cell_type": "code",
   "execution_count": 149,
   "metadata": {},
   "outputs": [
    {
     "name": "stdout",
     "output_type": "stream",
     "text": [
      "===========================================\n",
      "NumPy: [2. 3.]\n",
      "Tensor: tensor([2., 3.])\n",
      "NumPy: [3. 4.]\n",
      "Tensor: tensor([3., 4.])\n",
      "===========================================\n",
      "NumPy: [2. 3.]\n",
      "Tensor: tensor([2., 3.])\n",
      "NumPy: [2. 3.]\n",
      "Tensor: tensor([3., 4.])\n"
     ]
    }
   ],
   "source": [
    "t = torch.Tensor([2,3])\n",
    "n = t.numpy()\n",
    "print(\"===========================================\")\n",
    "print(\"NumPy:\",n)\n",
    "print(\"Tensor:\",t)\n",
    "\n",
    "t += 1\n",
    "\n",
    "print(\"NumPy:\",n)\n",
    "print(\"Tensor:\",t)\n",
    "\n",
    "print(\"===========================================\")\n",
    "t = torch.Tensor([2,3])\n",
    "n = np.array(t.data)\n",
    "\n",
    "print(\"NumPy:\",n)\n",
    "print(\"Tensor:\",t)\n",
    "\n",
    "t += 1\n",
    "\n",
    "print(\"NumPy:\",n)\n",
    "print(\"Tensor:\",t)"
   ]
  },
  {
   "cell_type": "markdown",
   "metadata": {},
   "source": [
    "## PyTorch: Tensor"
   ]
  },
  {
   "cell_type": "markdown",
   "metadata": {},
   "source": [
    "### PyTorch: Tensor +  -  *"
   ]
  },
  {
   "cell_type": "code",
   "execution_count": 150,
   "metadata": {},
   "outputs": [
    {
     "name": "stdout",
     "output_type": "stream",
     "text": [
      "===========================================\n",
      "T1\n",
      "tensor([[1., 1., 1., 1., 1.],\n",
      "        [1., 1., 1., 1., 1.],\n",
      "        [1., 1., 1., 1., 1.],\n",
      "        [1., 1., 1., 1., 1.],\n",
      "        [1., 1., 1., 1., 1.]])\n",
      "T2\n",
      "tensor([[0., 0., 0., 0., 0.],\n",
      "        [0., 0., 0., 0., 0.],\n",
      "        [0., 0., 0., 0., 0.],\n",
      "        [0., 0., 0., 0., 0.],\n",
      "        [0., 0., 0., 0., 0.]])\n",
      "T1+T2\n",
      "tensor([[1., 1., 1., 1., 1.],\n",
      "        [1., 1., 1., 1., 1.],\n",
      "        [1., 1., 1., 1., 1.],\n",
      "        [1., 1., 1., 1., 1.],\n",
      "        [1., 1., 1., 1., 1.]])\n",
      "T1-T2\n",
      "tensor([[1., 1., 1., 1., 1.],\n",
      "        [1., 1., 1., 1., 1.],\n",
      "        [1., 1., 1., 1., 1.],\n",
      "        [1., 1., 1., 1., 1.],\n",
      "        [1., 1., 1., 1., 1.]])\n",
      "T1 x T2\n",
      "tensor([[0., 0., 0., 0., 0.],\n",
      "        [0., 0., 0., 0., 0.],\n",
      "        [0., 0., 0., 0., 0.],\n",
      "        [0., 0., 0., 0., 0.],\n",
      "        [0., 0., 0., 0., 0.]])\n"
     ]
    }
   ],
   "source": [
    "t1 = torch.ones(5,5)\n",
    "print(\"===========================================\")\n",
    "print(\"T1\")\n",
    "print(t1)\n",
    "\n",
    "t2 = torch.zeros(5,5)\n",
    "print(\"T2\")\n",
    "print(t2)\n",
    "\n",
    "# Plus\n",
    "print(\"T1+T2\")\n",
    "print(t1+t2)\n",
    "\n",
    "#Minus\n",
    "print(\"T1-T2\")\n",
    "print(t1-t2)\n",
    "\n",
    "\n",
    "print(\"T1 x T2\")\n",
    "print(t1*t2)"
   ]
  },
  {
   "cell_type": "markdown",
   "metadata": {},
   "source": [
    "### PyTorch: Dot Product Matrix "
   ]
  },
  {
   "cell_type": "code",
   "execution_count": 151,
   "metadata": {},
   "outputs": [
    {
     "name": "stdout",
     "output_type": "stream",
     "text": [
      "T1: tensor([[1., 1., 1.],\n",
      "        [1., 1., 1.],\n",
      "        [1., 1., 1.],\n",
      "        [1., 1., 1.],\n",
      "        [1., 1., 1.]])\n",
      "T2: tensor([[2., 2., 2., 2., 2.],\n",
      "        [2., 2., 2., 2., 2.],\n",
      "        [2., 2., 2., 2., 2.]])\n",
      "Dot Product:\n",
      "tensor([[6., 6., 6., 6., 6.],\n",
      "        [6., 6., 6., 6., 6.],\n",
      "        [6., 6., 6., 6., 6.],\n",
      "        [6., 6., 6., 6., 6.],\n",
      "        [6., 6., 6., 6., 6.]])\n"
     ]
    }
   ],
   "source": [
    "t1 = torch.ones(5,3)\n",
    "t2 = torch.Tensor(3,5).fill_(2)\n",
    "\n",
    "print(\"T1:\",t1) \n",
    "print(\"T2:\",t2) \n",
    "print(\"Dot Product:\")\n",
    "print(torch.matmul(t1,t2))"
   ]
  },
  {
   "cell_type": "markdown",
   "metadata": {},
   "source": [
    "### PyTorch: Other Calulate"
   ]
  },
  {
   "cell_type": "code",
   "execution_count": 152,
   "metadata": {},
   "outputs": [
    {
     "name": "stdout",
     "output_type": "stream",
     "text": [
      "Mean: tensor(1.)\n",
      "Sum: tensor(15.)\n",
      "Std: tensor(0.)\n",
      "Max: tensor(1.)\n",
      "Min: tensor(1.)\n"
     ]
    }
   ],
   "source": [
    "t = torch.ones(5,3)\n",
    "print(\"Mean:\",t.mean())\n",
    "print(\"Sum:\",t.sum())\n",
    "print(\"Std:\",t.std())\n",
    "print(\"Max:\",t.max())\n",
    "print(\"Min:\",t.min())"
   ]
  },
  {
   "cell_type": "markdown",
   "metadata": {},
   "source": [
    "### PyTorch: Change Tensor"
   ]
  },
  {
   "cell_type": "code",
   "execution_count": 153,
   "metadata": {},
   "outputs": [
    {
     "name": "stdout",
     "output_type": "stream",
     "text": [
      "tensor([[-1.2813e-32,  7.4829e-43,  7.0000e+00],\n",
      "        [ 7.0000e+00,  7.0000e+00,  7.0000e+00],\n",
      "        [ 7.0000e+00,  7.0000e+00,  7.0000e+00],\n",
      "        [ 7.0000e+00,  7.0000e+00,  7.0000e+00],\n",
      "        [ 7.0000e+00,  7.0000e+00,  7.0000e+00]])\n",
      "tensor([[-1.2813e-32,  7.4829e-43,  7.0000e+00,  7.0000e+00,  7.0000e+00,\n",
      "          7.0000e+00,  7.0000e+00,  7.0000e+00,  7.0000e+00,  7.0000e+00,\n",
      "          7.0000e+00,  7.0000e+00,  7.0000e+00,  7.0000e+00,  7.0000e+00]])\n",
      "tensor([[-1.2813e-32,  7.4829e-43,  7.0000e+00,  7.0000e+00,  7.0000e+00],\n",
      "        [ 7.0000e+00,  7.0000e+00,  7.0000e+00,  7.0000e+00,  7.0000e+00],\n",
      "        [ 7.0000e+00,  7.0000e+00,  7.0000e+00,  7.0000e+00,  7.0000e+00]])\n"
     ]
    }
   ],
   "source": [
    "t = torch.Tensor(5,3)\n",
    "\n",
    "print(t)\n",
    "print(t.view(1,15))\n",
    "print(t.view(3,5))"
   ]
  },
  {
   "cell_type": "markdown",
   "metadata": {},
   "source": [
    "### PyTorch: Finding the derivative\n"
   ]
  },
  {
   "cell_type": "code",
   "execution_count": 154,
   "metadata": {},
   "outputs": [
    {
     "name": "stdout",
     "output_type": "stream",
     "text": [
      "None\n",
      "None\n",
      "tensor([[1.],\n",
      "        [1.],\n",
      "        [1.],\n",
      "        [1.],\n",
      "        [1.]])\n"
     ]
    },
    {
     "name": "stderr",
     "output_type": "stream",
     "text": [
      "C:\\Users\\Comlab\\AppData\\Local\\Temp\\ipykernel_8520\\1153719572.py:9: UserWarning: The .grad attribute of a Tensor that is not a leaf Tensor is being accessed. Its .grad attribute won't be populated during autograd.backward(). If you indeed want the .grad field to be populated for a non-leaf Tensor, use .retain_grad() on the non-leaf Tensor. If you access the non-leaf Tensor by mistake, make sure you access the leaf Tensor instead. See github.com/pytorch/pytorch/pull/30531 for more informations. (Triggered internally at aten\\src\\ATen/core/TensorBody.h:494.)\n",
      "  print(y.grad)\n"
     ]
    }
   ],
   "source": [
    "x = torch.ones(1,5)\n",
    "w = torch.Tensor(5,1).fill_(2)\n",
    "\n",
    "w.requires_grad = True\n",
    "y = torch.matmul(x,w)\n",
    "\n",
    "y.backward()\n",
    "print(x.grad)\n",
    "print(y.grad)\n",
    "print(w.grad)"
   ]
  },
  {
   "cell_type": "markdown",
   "metadata": {},
   "source": [
    "## PyTorch: Neural Network"
   ]
  },
  {
   "cell_type": "code",
   "execution_count": 155,
   "metadata": {},
   "outputs": [
    {
     "data": {
      "text/plain": [
       "Parameter containing:\n",
       "tensor([[ 0.4667, -0.6443],\n",
       "        [-0.6723, -0.3411],\n",
       "        [ 0.6209, -0.1178]], requires_grad=True)"
      ]
     },
     "execution_count": 155,
     "metadata": {},
     "output_type": "execute_result"
    }
   ],
   "source": [
    "linear_layer = torch.nn.Linear(2,3)\n",
    "linear_layer.weight"
   ]
  },
  {
   "cell_type": "code",
   "execution_count": 156,
   "metadata": {},
   "outputs": [
    {
     "name": "stdout",
     "output_type": "stream",
     "text": [
      "TestNeuralNetwork(\n",
      "  (linearLayer1): Linear(in_features=2, out_features=3, bias=True)\n",
      "  (linearLayer2): Linear(in_features=3, out_features=3, bias=True)\n",
      "  (linearLayer3): Linear(in_features=3, out_features=2, bias=True)\n",
      ")\n"
     ]
    }
   ],
   "source": [
    "import torch \n",
    "import torch.nn.functional as F\n",
    "\n",
    "class TestNeuralNetwork(torch.nn.Module):\n",
    "    def __init__(self):\n",
    "        super(TestNeuralNetwork,self).__init__()\n",
    "        self.linearLayer1 = torch.nn.Linear(2,3)\n",
    "        self.linearLayer2 = torch.nn.Linear(3,3)\n",
    "        self.linearLayer3 = torch.nn.Linear(3,2)    \n",
    "\n",
    "    def forward(self,x):\n",
    "        h1 = self.linearLayer1(x)\n",
    "        a1 = F.relu(h1)\n",
    "        h2 = self.linearLayer2(a1)\n",
    "        a2 = F.relu(h2)\n",
    "        h3 = self.linearLayer3(a2)\n",
    "        return h3\n",
    "\n",
    "nn = TestNeuralNetwork()\n",
    "print(nn)"
   ]
  },
  {
   "cell_type": "markdown",
   "metadata": {},
   "source": [
    "### PyTroch: Train Neurl Network"
   ]
  },
  {
   "cell_type": "code",
   "execution_count": 157,
   "metadata": {},
   "outputs": [
    {
     "data": {
      "image/png": "[encoded data removed]",
      "text/plain": [
       "<Figure size 640x480 with 1 Axes>"
      ]
     },
     "metadata": {},
     "output_type": "display_data"
    },
    {
     "data": {
      "image/png": "[encoded data removed]",
      "text/plain": [
       "<Figure size 640x480 with 1 Axes>"
      ]
     },
     "metadata": {},
     "output_type": "display_data"
    }
   ],
   "source": [
    "import numpy as np  \n",
    "import matplotlib.pyplot as plt \n",
    "import torch\n",
    "import torch.nn.functional as F \n",
    "\n",
    "z = np.arange(2).repeat(40)\n",
    "r = np.random.normal(z + 1, 0.25)\n",
    "t = np.random.uniform(0, np.pi, 80)\n",
    "x = r * np.cos(t)\n",
    "y = r * np.sin(t)\n",
    "\n",
    "plt.scatter(x, y, c=z, edgecolors='k')\n",
    "plt.show()\n",
    "\n",
    "#  use data form numpy\n",
    "X = torch.Tensor(np.vstack((x, y)).T)\n",
    "z = torch.LongTensor(z)\n",
    "\n",
    "nn = TestNeuralNetwork()\n",
    "\n",
    "optimizer = torch.optim.Adam(nn.parameters(), lr=0.1)\n",
    "cross_entropy = torch.nn.CrossEntropyLoss()\n",
    "\n",
    "for i in range(500):\n",
    "    a = nn(X)\n",
    "    output = cross_entropy(a, z)\n",
    "    output.backward()\n",
    "    optimizer.step()\n",
    "    optimizer.zero_grad()\n",
    "# create data test\n",
    "test_z = np.arange(2).repeat(10)\n",
    "test_r = np.random.normal(test_z + 1, 0.25)\n",
    "test_t = np.random.uniform(0, np.pi, 20)\n",
    "test_x = test_r * np.cos(test_t)\n",
    "test_y = test_r * np.sin(test_t)\n",
    "\n",
    "# use data test form numpy\n",
    "X_test = torch.Tensor(np.vstack((test_x, test_y)).T)\n",
    "z_test = torch.LongTensor(test_z)\n",
    "\n",
    "# test\n",
    "with torch.no_grad():\n",
    "    test_output = nn(X_test)\n",
    "    _, predicted = torch.max(test_output, 1)\n",
    "\n",
    "# result\n",
    "plt.scatter(test_x, test_y, c=predicted, edgecolors='k')\n",
    "plt.show()\n"
   ]
  }
 ],
 "metadata": {
  "kernelspec": {
   "display_name": "env",
   "language": "python",
   "name": "python3"
  },
  "language_info": {
   "codemirror_mode": {
    "name": "ipython",
    "version": 3
   },
   "file_extension": ".py",
   "mimetype": "text/x-python",
   "name": "python",
   "nbconvert_exporter": "python",
   "pygments_lexer": "ipython3",
   "version": "3.11.8"
  }
 },
 "nbformat": 4,
 "nbformat_minor": 2
}
